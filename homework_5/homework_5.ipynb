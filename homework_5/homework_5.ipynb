{
 "cells": [
  {
   "cell_type": "code",
   "execution_count": 1,
   "metadata": {},
   "outputs": [],
   "source": [
    "import numpy as np \n",
    "import pandas as pd\n",
    "from sklearn.linear_model import LogisticRegression\n",
    "import matplotlib.pyplot as plt \n",
    "from sklearn.model_selection import KFold, cross_val_score"
   ]
  },
  {
   "cell_type": "markdown",
   "metadata": {},
   "source": [
    "# Homework 5\n",
    "\n",
    "<strong>Name: </strong> Kennon Stewart\n",
    "\n",
    "<strong>Email: </strong> ksstewar@umich.edu"
   ]
  },
  {
   "cell_type": "markdown",
   "metadata": {},
   "source": [
    "## Question 1\n",
    "\n",
    "We will now derive the probability that an observation is within the bootstrap sample of sample size $n$.\n",
    "\n",
    "### Part A\n",
    "\n",
    "What is the probability that the first bootstrap observation is not the jth observation from the original sample? Justify your answer.\n",
    "\n",
    "The event that the first bootstrap observation is not the jth observation from the original sample is the complement of the event where the first observation is the jth observation in the original sample.\n",
    "\n",
    "$$\n",
    "1 - P(B)\n",
    "$$\n",
    "\n",
    "where B is the event where the 1st observation is the jth sample observation. Since $P(B)=\\frac{1}{n}$, we have $1-(\\frac{1}{n})$.\n",
    "\n",
    "### Part B\n",
    "\n",
    "Similar to the response to Part A, the probability that the second bootstrap observation is not the jth sample observation is $1-(\\frac{1}{n})$.\n",
    "\n",
    "### Part C\n",
    "\n",
    "Since the bootstrap samples the original sample with replacement, each element in the original sample with sample size $n$ has a $\\frac{1}{n}$ chance of being sampled. For an element of the sample to not be selected for a bootstrap sample of n observations would be the product of their individual probabilities due to the independence of draws.\n",
    "\n",
    "Thus, $P = (1-\\frac{1}{n})^n$.\n",
    "\n",
    "### Part D\n",
    "\n",
    "When given a sample size $n=5$, we can plug the sample size into our answer to the previous question to find the probability that a sample observation is not included in the bootstrap sample. If $A$ is the event that observation j is not in the bootstrap sample.\n",
    "\n",
    "$$\n",
    "P(A)=(1-\\frac{1}{5})^5\n",
    "$$\n",
    "\n",
    "and the probability in which we're interested, $P(A^{C}) = 1 - P(A) = 0.67232$.\n",
    "\n",
    "### Part E\n",
    "\n",
    "When the sample size increases to $n=100$, we do the same as in Part D to get $P(A^{C}) = 1 - P(A) = 0.049$.\n",
    "\n",
    "### Part F\n",
    "\n",
    "When the sample size increases to $n=10000$, we do the same as in Part E to get $P(A^{C}) = 1 - P(A) = 0.0004999$."
   ]
  },
  {
   "cell_type": "markdown",
   "metadata": {},
   "source": [
    "## Question 2\n",
    "\n",
    "Suppose we use some statistical learning method to make a prediction for the response $Y$ for a particular value of the predictor of $X$. Carefully describe how we might estimate the standard deviation of our prediction.\n",
    "\n",
    "The idea would be that we take a large number of bootstrap samples, which are samples drawn with replacement from the original sample. For each of these bootstrap samples, we'd train a new linear model that would be used to make a prediction using the same original predictor values used to generate our observed prediction. The differences between our bootstrap prediction and original prediction are repeatedly summed and averaged across the number of bootstrap samples to estimate a standard deviation. This can be used to draw a confidence interval around the original prediction.\n",
    "\n",
    "- From the original sample of size $n$, draw a bootstrap sample of size $n$ with replacement.\n",
    "- Use the bootstrap sample to train a new model.\n",
    "- Use this boostrap model to make a prediction on the original set of predictors as the first model.\n",
    "- Repeat steps 1 - 3 until a sufficient amount of sample predictions have been generated and calculate the variance of this new sample of predictions.\n",
    "- The variance of the estimate follows using algebra.\n"
   ]
  },
  {
   "cell_type": "markdown",
   "metadata": {},
   "source": [
    "## Question 3\n",
    "\n",
    "<strong>(a) </strong>I use the following code to initialize a random number generator and generate a normally-distributed dataset of numbers of sample size $n=100$ and $p \\sim \\text{Normal}(\\mu,\\sigma^{2})$. We can write out the data's distribution in equation form in order to better understand the data-generating process:\n",
    "\n",
    "$$\n",
    "y=x-2x^{2} + \\epsilon\n",
    "$$\n",
    "\n",
    "where $\\epsilon \\sim N(\\mu, \\sigma^{2})$."
   ]
  },
  {
   "cell_type": "markdown",
   "metadata": {},
   "source": [
    "<strong>(b) </strong> When I visualize the data using a scatter plot in **Figure 3.1**, I can see that the data follows a parabola pretty closely."
   ]
  },
  {
   "cell_type": "code",
   "execution_count": 2,
   "metadata": {},
   "outputs": [
    {
     "data": {
      "image/png": "[encoded data removed]",
      "text/plain": [
       "<Figure size 640x480 with 1 Axes>"
      ]
     },
     "metadata": {},
     "output_type": "display_data"
    }
   ],
   "source": [
    "# generate the sample data\n",
    "rng = np.random.default_rng(1)\n",
    "x = rng.normal(size = 100)\n",
    "y = x - 2 * x**2 + rng.normal(100)\n",
    "\n",
    "\n",
    "# Create the scatter plot\n",
    "plt.scatter(x, y)\n",
    "\n",
    "# Add labels and title (optional)\n",
    "plt.xlabel(\"X\")\n",
    "plt.ylabel(\"Y\")\n",
    "plt.title(\"Figure 3.1: Simulated Data\")\n",
    "\n",
    "# Show the plot\n",
    "plt.show()\n"
   ]
  },
  {
   "cell_type": "markdown",
   "metadata": {},
   "source": [
    "<strong>(c) </strong>Construct 5 folds using `sklearn.model_selection.KFold` where the `random_state` is initialized to 3. Using these folds, compute the cross-validation errors that result from fitting the following four models using least squares. **Use the same five folds for all four models.**\n",
    "\n",
    "For each fold and each model, report the MSE as well as the model with the smallest MSE. Is this surprising?\n",
    "\n",
    "**<a href = \"https://julien-vitay.net/lecturenotes-neurocomputing/5-exercises/5-Crossvalidation-solution.html\">Source for my code.</a>**"
   ]
  },
  {
   "cell_type": "markdown",
   "metadata": {},
   "source": [
    "<strong>(d) </strong>Consider estimating log-odds using the logistic regression with ridge penalties, setting regularization strength through LOOCV.\n",
    "\n",
    "<em>True or False:</em> the result will depend on a random seed that we use as part of the LOOCV process. Explain your answer."
   ]
  },
  {
   "cell_type": "code",
   "execution_count": 3,
   "metadata": {},
   "outputs": [
    {
     "name": "stdout",
     "output_type": "stream",
     "text": [
      "MSE for degree 0 fold 0: 7.816284760165237\n",
      "MSE for degree 0 fold 1: 8.8380326424855\n",
      "MSE for degree 0 fold 2: 7.5093725964044635\n",
      "MSE for degree 0 fold 3: 8.570532395349716\n",
      "MSE for degree 0 fold 4: 6.062291139638938\n",
      "MSE for degree 1 fold 0: 5.527484467468671\n",
      "MSE for degree 1 fold 1: 4.615058867791548\n",
      "MSE for degree 1 fold 2: 5.126249368692131\n",
      "MSE for degree 1 fold 3: 4.835032117574711\n",
      "MSE for degree 1 fold 4: 4.140356919628905\n",
      "MSE for degree 2 fold 0: 6.636529023443328e-27\n",
      "MSE for degree 2 fold 1: 1.8932661725304283e-27\n",
      "MSE for degree 2 fold 2: 6.977316934498805e-27\n",
      "MSE for degree 2 fold 3: 7.295385651483917e-28\n",
      "MSE for degree 2 fold 4: 5.5813486766197026e-27\n",
      "MSE for degree 3 fold 0: 2.2012374699287114e-27\n",
      "MSE for degree 3 fold 1: 5.6495062588307984e-27\n",
      "MSE for degree 3 fold 2: 3.291758785306238e-27\n",
      "MSE for degree 3 fold 3: 2.9661170036310044e-27\n",
      "MSE for degree 3 fold 4: 2.027056982055912e-27\n",
      "MSE for degree 4 fold 0: 1.7266587493477508e-27\n",
      "MSE for degree 4 fold 1: 1.3833464833955662e-27\n",
      "MSE for degree 4 fold 2: 7.926474375660726e-28\n",
      "MSE for degree 4 fold 3: 3.1478705561939256e-27\n",
      "MSE for degree 4 fold 4: 2.749022482514182e-27\n"
     ]
    }
   ],
   "source": [
    "folds = KFold(\n",
    "    n_splits = 5,\n",
    "    shuffle = True,\n",
    "    random_state = 3\n",
    ") # initialize the folds for validation\n",
    "\n",
    "metrics = {\n",
    "    \"degree\" : [],\n",
    "    \"fold\" : [],\n",
    "    \"mse\" : []\n",
    "}\n",
    "\n",
    "for degree in range(5):\n",
    "    model = np.poly1d(\n",
    "        np.polyfit(\n",
    "            x = x,\n",
    "            y = y,\n",
    "            deg = degree\n",
    "        )\n",
    "    ) # fit the polynomial model of degree i\n",
    "    for indx, (train_index, test_index) in enumerate(folds.split(x)):\n",
    "        # isolate the training set\n",
    "        X_training = x[train_index]\n",
    "        y_training = y[train_index]\n",
    "\n",
    "        # get the coefficients\n",
    "        poly_coefficients = np.polyfit(\n",
    "            x[train_index],\n",
    "            y[train_index],\n",
    "            deg = degree\n",
    "        )\n",
    "\n",
    "        # initialize the model\n",
    "        poly_model = np.poly1d(poly_coefficients)\n",
    "\n",
    "        # generate predicted values\n",
    "        y_predicted = poly_model(X_training)\n",
    "\n",
    "        # report the MSE\n",
    "        fold_mse = np.mean([(x - y)**2 for x, y in zip(y_predicted, y_training)])\n",
    "        print(f\"MSE for degree {degree} fold {indx}: \" + str(fold_mse))\n",
    "\n",
    "        # log the metrics\n",
    "        metrics[\"degree\"].append(degree)\n",
    "        metrics[\"fold\"].append(indx)\n",
    "        metrics[\"mse\"].append(fold_mse)\n",
    "        \n"
   ]
  },
  {
   "cell_type": "markdown",
   "metadata": {},
   "source": [
    "The lowest MSE seems to come from the polynomial with degree 4. This makes sense because there is almost no variation in this data, and so overfitting to the training set would implicitly mean fitting to the test set, as well. Since the training and test data were generated using the sama data-generating process, with a minimum of variance, it wouldn't be difficult for the model to impute the missing values."
   ]
  },
  {
   "cell_type": "markdown",
   "metadata": {},
   "source": [
    "## Question 6\n",
    "\n",
    "For question 6, my first step is to download the dataset from Canvas and use it to train a Logistic Regression classifier. Since I won't be using the K-Fold Cross-Validation method for the first iteration of the model, I would expect the classification error to be smaller than that of the naive classifier (50%), but still somewhat large."
   ]
  },
  {
   "cell_type": "code",
   "execution_count": 4,
   "metadata": {},
   "outputs": [],
   "source": [
    "file_path = \"weekly.csv\"\n",
    "weekly_data = pd.read_csv(file_path, index_col = 0)"
   ]
  },
  {
   "cell_type": "code",
   "execution_count": 5,
   "metadata": {},
   "outputs": [],
   "source": [
    "weekly_data = weekly_data[[\"Lag1\", \"Lag2\", \"Direction\"]]"
   ]
  },
  {
   "cell_type": "code",
   "execution_count": 6,
   "metadata": {},
   "outputs": [
    {
     "name": "stdout",
     "output_type": "stream",
     "text": [
      "0.5546372819100092\n"
     ]
    }
   ],
   "source": [
    "# create training and testing sets\n",
    "X_training = weekly_data[[\"Lag1\", \"Lag2\"]]\n",
    "y_training = weekly_data[\"Direction\"]\n",
    "\n",
    "# initialize the logistic regression\n",
    "logistic_regression_model = LogisticRegression()\n",
    "\n",
    "# fit the model\n",
    "logistic_regression_model.fit(X_training, y_training)\n",
    "\n",
    "# generate predictions\n",
    "predictions = logistic_regression_model.predict(X_training)\n",
    "\n",
    "# evaluate the performance\n",
    "misclassifications = np.mean([1 if x == y else 0 for x, y in zip(y_training, predictions)])\n",
    "\n",
    "print(misclassifications)\n"
   ]
  },
  {
   "cell_type": "markdown",
   "metadata": {},
   "source": [
    "### Part B\n",
    "\n",
    "The second iteration of the model is done using a single holdout from the training set to serve as the validation set. We notice that the misclassification rate of the classifier trained on the entire training set is very similar to that of the classifier when trained on a training set of size $n-1$. "
   ]
  },
  {
   "cell_type": "code",
   "execution_count": 11,
   "metadata": {},
   "outputs": [
    {
     "name": "stdout",
     "output_type": "stream",
     "text": [
      "0.5569852941176471\n"
     ]
    }
   ],
   "source": [
    "# create training and testing sets\n",
    "X_holdout = weekly_data[[\"Lag1\", \"Lag2\"]].iloc[[1]]\n",
    "y_holdout = weekly_data[\"Direction\"].iloc[[1]]\n",
    "X_training = weekly_data[[\"Lag1\", \"Lag2\"]].iloc[1:]\n",
    "y_training = weekly_data[\"Direction\"].iloc[1:]\n",
    "\n",
    "\n",
    "# initialize the logistic regression\n",
    "logistic_regression_model = LogisticRegression()\n",
    "\n",
    "# fit the model\n",
    "logistic_regression_model.fit(X_training, y_training)\n",
    "\n",
    "# generate predictions\n",
    "predictions = logistic_regression_model.predict(X_training)\n",
    "\n",
    "# evaluate the performance\n",
    "misclassifications = np.mean([1 if x == y else 0 for x, y in zip(y_training, predictions)])\n",
    "\n",
    "print(misclassifications)\n"
   ]
  },
  {
   "cell_type": "markdown",
   "metadata": {},
   "source": [
    "### Part C\n",
    "\n",
    "When we use the model from <strong>(b)</strong> to do inference on the held out observation, we see that the classifier correctly identifies the held-out observation. This makes sense since there's more than enough data that was apart of the training set to properly classify the unseen observation."
   ]
  },
  {
   "cell_type": "code",
   "execution_count": 15,
   "metadata": {},
   "outputs": [
    {
     "data": {
      "text/plain": [
       "np.float64(0.0)"
      ]
     },
     "execution_count": 15,
     "metadata": {},
     "output_type": "execute_result"
    }
   ],
   "source": [
    "# generate predictions\n",
    "predictions = logistic_regression_model.predict(X_holdout)\n",
    "\n",
    "# evaluate the performance\n",
    "misclassifications = np.mean([1 if x == y else 0 for x, y in zip(y_holdout, predictions)])\n",
    "\n",
    "misclassifications"
   ]
  },
  {
   "cell_type": "code",
   "execution_count": 50,
   "metadata": {},
   "outputs": [],
   "source": [
    "def loocv(n):\n",
    "    results = []\n",
    "\n",
    "    for i in range(n):\n",
    "\n",
    "        # define the left-out observation\n",
    "        X_holdout, y_holdout = weekly_data[[\"Lag1\", \"Lag2\"]].iloc[[i]], weekly_data.at[i, \"Direction\"]\n",
    "\n",
    "        # define the training set\n",
    "        X_training, y_training = weekly_data[[\"Lag1\", \"Lag2\"]].drop(i, axis = 0), weekly_data[\"Direction\"].drop(i, axis = 0)\n",
    "\n",
    "        # initialize the model\n",
    "        logistic_regression_model = LogisticRegression()\n",
    "\n",
    "        # fit the model\n",
    "        logistic_regression_model.fit(X_training, y_training)\n",
    "\n",
    "        # calculate the predicted value\n",
    "        holdout_prediction = logistic_regression_model.predict(X_holdout)[0]\n",
    "\n",
    "        if holdout_prediction == y_holdout:\n",
    "            results.append(1)\n",
    "        else:\n",
    "            results.append(0)\n",
    "    return float(np.mean(results))"
   ]
  },
  {
   "cell_type": "markdown",
   "metadata": {},
   "source": [
    "### Part E\n",
    "\n",
    "When we average the accuracy of our simulation runs, we see that the accuracy of our model using LOOCV is slightly higher than that estimated using the whole training set. And I have much more confidence in this estimate because it was generated using every possible permutation of the dataset for training and validation."
   ]
  },
  {
   "cell_type": "code",
   "execution_count": 52,
   "metadata": {},
   "outputs": [
    {
     "name": "stdout",
     "output_type": "stream",
     "text": [
      "0.5500459136822773\n"
     ]
    }
   ],
   "source": [
    "loocv_mean = loocv(len(weekly_data))\n",
    "print(loocv_mean)"
   ]
  }
 ],
 "metadata": {
  "kernelspec": {
   "display_name": "Python 3",
   "language": "python",
   "name": "python3"
  },
  "language_info": {
   "codemirror_mode": {
    "name": "ipython",
    "version": 3
   },
   "file_extension": ".py",
   "mimetype": "text/x-python",
   "name": "python",
   "nbconvert_exporter": "python",
   "pygments_lexer": "ipython3",
   "version": "3.12.1"
  }
 },
 "nbformat": 4,
 "nbformat_minor": 2
}
