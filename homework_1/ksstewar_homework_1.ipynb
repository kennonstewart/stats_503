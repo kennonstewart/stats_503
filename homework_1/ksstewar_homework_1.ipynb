{
 "cells": [
  {
   "cell_type": "markdown",
   "metadata": {},
   "source": [
    "# Homework 1 \n",
    "<p><strong>Name:</strong> Kennon Stewart</p>\n",
    "<p><strong>Email:</strong> ksstewar@umich.edu</p>"
   ]
  },
  {
   "cell_type": "markdown",
   "metadata": {},
   "source": [
    "## Question 1 \n",
    "<p><strong>(a)</strong> Variables related to academics include GPA (continuous), year (ordinal), and department (categorical).<p>\n",
    "<p><strong>(b)</strong> We could make inferences about first-year Biostats students taking the course easily. It would be more difficult to make inference about first-year Biostats students, as a whole.</p>"
   ]
  },
  {
   "cell_type": "markdown",
   "metadata": {},
   "source": [
    "## Question 2\n",
    "<p><strong>(a)</strong> Regression, Inference, n = 500, p = 3<p>\n",
    "<p><strong>(b)</strong> Classification, Prediction, n = 20, p = 13<p>\n",
    "<p><strong>(c)</strong> Regression, Prediction, n = 53 (leap year), p = 3</p>\n"
   ]
  },
  {
   "cell_type": "markdown",
   "metadata": {},
   "source": [
    "## Question 3\n",
    "\n",
    "<p><strong>(a)</strong> False</p>\n",
    "<p><strong>(b)</strong> True</p>\n",
    "<p><strong>(c)</strong> </p>\n"
   ]
  },
  {
   "cell_type": "markdown",
   "metadata": {},
   "source": [
    "# Question 4"
   ]
  },
  {
   "cell_type": "code",
   "execution_count": 15,
   "metadata": {},
   "outputs": [],
   "source": [
    "import pandas as pd\n",
    "import statistics as stat"
   ]
  },
  {
   "cell_type": "code",
   "execution_count": 16,
   "metadata": {},
   "outputs": [],
   "source": [
    "file_path = \"/workspaces/stats_503/homework_1/college_train.csv\"\n",
    "college_train_data = pd.read_csv(file_path)"
   ]
  },
  {
   "cell_type": "code",
   "execution_count": 17,
   "metadata": {},
   "outputs": [
    {
     "data": {
      "text/plain": [
       "(650, 19)"
      ]
     },
     "execution_count": 17,
     "metadata": {},
     "output_type": "execute_result"
    }
   ],
   "source": [
    "college_train_data.shape"
   ]
  },
  {
   "cell_type": "code",
   "execution_count": 21,
   "metadata": {},
   "outputs": [
    {
     "name": "stdout",
     "output_type": "stream",
     "text": [
      "551.6553846153846\n",
      "168.64335324879607\n"
     ]
    }
   ],
   "source": [
    "print(college_train_data[\"Books\"].mean())\n",
    "print(stat.stdev(college_train_data[\"Books\"]))"
   ]
  },
  {
   "cell_type": "code",
   "execution_count": 40,
   "metadata": {},
   "outputs": [
    {
     "name": "stdout",
     "output_type": "stream",
     "text": [
      "number of observations where Terminal >= 90: 207\n"
     ]
    }
   ],
   "source": [
    "ans = len(college_train_data[college_train_data[\"Terminal\"] >= 90])\n",
    "print(f\"number of observations where Terminal >= 90: {ans}\")"
   ]
  },
  {
   "cell_type": "code",
   "execution_count": 39,
   "metadata": {},
   "outputs": [
    {
     "name": "stdout",
     "output_type": "stream",
     "text": [
      "550.2972399150743\n",
      "179.72500498789154\n"
     ]
    }
   ],
   "source": [
    "private_data = college_train_data[college_train_data[\"Private\"] == \"Yes\"]\n",
    "print(private_data[\"Books\"].mean())\n",
    "print(stat.stdev(private_data[\"Books\"]))"
   ]
  },
  {
   "cell_type": "code",
   "execution_count": 35,
   "metadata": {},
   "outputs": [],
   "source": [
    "def custom_function(ind):\n",
    "    return 2**ind"
   ]
  },
  {
   "cell_type": "code",
   "execution_count": 37,
   "metadata": {},
   "outputs": [
    {
     "name": "stdout",
     "output_type": "stream",
     "text": [
      "Hello world 1\n",
      "Hello world 2\n",
      "Hello world 4\n",
      "Hello world 8\n",
      "Hello world 16\n"
     ]
    }
   ],
   "source": [
    "for i in range(5):\n",
    "    value = custom_function(i)\n",
    "    print(f\"Hello world {value}.\")"
   ]
  },
  {
   "cell_type": "markdown",
   "metadata": {},
   "source": [
    "# This is the section heading\n",
    "In this section, I have a bigger formula, \n",
    "```math\n",
    "\\sqrt{\\frac{\\alpha}{\\sqrt{\\beta^2 + \\cos{3}}}}\n",
    "```\n",
    "and an in-line formula, $\\sqrt{3}$. I made <strong> this text</strong> bold."
   ]
  },
  {
   "cell_type": "markdown",
   "metadata": {},
   "source": []
  }
 ],
 "metadata": {
  "kernelspec": {
   "display_name": "Python 3",
   "language": "python",
   "name": "python3"
  },
  "language_info": {
   "codemirror_mode": {
    "name": "ipython",
    "version": 3
   },
   "file_extension": ".py",
   "mimetype": "text/x-python",
   "name": "python",
   "nbconvert_exporter": "python",
   "pygments_lexer": "ipython3",
   "version": "3.12.1"
  }
 },
 "nbformat": 4,
 "nbformat_minor": 2
}
