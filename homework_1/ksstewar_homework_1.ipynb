{
 "cells": [
  {
   "cell_type": "markdown",
   "metadata": {},
   "source": [
    "# Homework 1 \n",
    "<p>Name: Kennon Stewart</p>\n",
    "<p>Email: ksstewar@umich.edu</p>"
   ]
  },
  {
   "cell_type": "markdown",
   "metadata": {},
   "source": [
    "## Question 1 \n",
    "<p><strong>(a)</strong> Variables related to academics include GPA (continuous), year (ordinal), and department (categorical).<p>\n",
    "<p><strong>(b)</strong> We could make inferences about first-year Biostats students taking the course easily. It would be more difficult to make inference about first-year Biostats students, as a whole.</p>"
   ]
  },
  {
   "cell_type": "markdown",
   "metadata": {},
   "source": [
    "## Question 2\n",
    "<p><strong>(a)</strong> Regression, Inference, n = 500, p = 3<p>\n",
    "<p><strong>(b)</strong> Classification, Prediction, n = 20, p = 13<p>\n",
    "<p><strong>(c)</strong> Regression, Prediction, n = 53 (leap year), p = 3</p>\n"
   ]
  },
  {
   "cell_type": "markdown",
   "metadata": {},
   "source": [
    "## Question 3\n",
    "\n",
    "<p><strong>(a)</strong> False</p>\n",
    "<p><strong>(b)</strong> True</p>\n",
    "<p><strong>(c)</strong> </p>\n"
   ]
  }
 ],
 "metadata": {
  "language_info": {
   "name": "python"
  }
 },
 "nbformat": 4,
 "nbformat_minor": 2
}
